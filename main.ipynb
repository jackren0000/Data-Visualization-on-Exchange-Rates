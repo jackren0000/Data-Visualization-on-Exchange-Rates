{
 "cells": [
  {
   "cell_type": "markdown",
   "id": "0acb16ff",
   "metadata": {},
   "source": [
    "# Data Visualization of Exchange Rates"
   ]
  },
  {
   "cell_type": "markdown",
   "id": "66e3d3a2",
   "metadata": {},
   "source": [
    "## Introduction\n",
    "\n",
    "In this project, we are going to visualize the exchange rates of euro."
   ]
  },
  {
   "cell_type": "markdown",
   "id": "fa15acec",
   "metadata": {},
   "source": [
    "## Dataset\n",
    "\n",
    "The dataset we'll use describes Euro daily exchange rates between 1999 and 2021. The euro is the official currency in most of the countries of the European Union."
   ]
  },
  {
   "cell_type": "code",
   "execution_count": 7,
   "id": "6aae7fa5",
   "metadata": {},
   "outputs": [],
   "source": [
    "import pandas as pd\n",
    "import numpy as np\n",
    "import seaborn as sns\n",
    "import matplotlib.pyplot as plt"
   ]
  },
  {
   "cell_type": "code",
   "execution_count": 8,
   "id": "5a6d5641",
   "metadata": {},
   "outputs": [],
   "source": [
    "# load the dataset\n",
    "df = pd.read_csv('euro-daily-hist_1999_2022.csv')"
   ]
  },
  {
   "cell_type": "markdown",
   "id": "333c2e29",
   "metadata": {},
   "source": [
    "### dataset insight"
   ]
  },
  {
   "cell_type": "code",
   "execution_count": 9,
   "id": "bfa19f04",
   "metadata": {},
   "outputs": [
    {
     "name": "stdout",
     "output_type": "stream",
     "text": [
      "****************************************************************************************************\n",
      "General Information about the Dataset:\n",
      "<class 'pandas.core.frame.DataFrame'>\n",
      "RangeIndex: 6785 entries, 0 to 6784\n",
      "Data columns (total 41 columns):\n",
      " #   Column                    Non-Null Count  Dtype  \n",
      "---  ------                    --------------  -----  \n",
      " 0   Period\\Unit:              6785 non-null   object \n",
      " 1   [Australian dollar ]      6785 non-null   object \n",
      " 2   [Bulgarian lev ]          6383 non-null   object \n",
      " 3   [Brazilian real ]         6517 non-null   object \n",
      " 4   [Canadian dollar ]        6785 non-null   object \n",
      " 5   [Swiss franc ]            6785 non-null   object \n",
      " 6   [Chinese yuan renminbi ]  6517 non-null   object \n",
      " 7   [Cypriot pound ]          2346 non-null   object \n",
      " 8   [Czech koruna ]           6785 non-null   object \n",
      " 9   [Danish krone ]           6785 non-null   object \n",
      " 10  [Estonian kroon ]         3130 non-null   object \n",
      " 11  [UK pound sterling ]      6785 non-null   object \n",
      " 12  [Greek drachma ]          520 non-null    object \n",
      " 13  [Hong Kong dollar ]       6785 non-null   object \n",
      " 14  [Croatian kuna ]          5941 non-null   object \n",
      " 15  [Hungarian forint ]       6785 non-null   object \n",
      " 16  [Indonesian rupiah ]      6785 non-null   object \n",
      " 17  [Israeli shekel ]         6517 non-null   object \n",
      " 18  [Indian rupee ]           6517 non-null   object \n",
      " 19  [Iceland krona ]          4378 non-null   float64\n",
      " 20  [Japanese yen ]           6785 non-null   object \n",
      " 21  [Korean won ]             6785 non-null   object \n",
      " 22  [Lithuanian litas ]       4159 non-null   object \n",
      " 23  [Latvian lats ]           3904 non-null   object \n",
      " 24  [Maltese lira ]           2346 non-null   object \n",
      " 25  [Mexican peso ]           6785 non-null   object \n",
      " 26  [Malaysian ringgit ]      6785 non-null   object \n",
      " 27  [Norwegian krone ]        6785 non-null   object \n",
      " 28  [New Zealand dollar ]     6785 non-null   object \n",
      " 29  [Philippine peso ]        6785 non-null   object \n",
      " 30  [Polish zloty ]           6785 non-null   object \n",
      " 31  [Romanian leu ]           6723 non-null   float64\n",
      " 32  [Russian rouble ]         5994 non-null   object \n",
      " 33  [Swedish krona ]          6785 non-null   object \n",
      " 34  [Singapore dollar ]       6785 non-null   object \n",
      " 35  [Slovenian tolar ]        2085 non-null   object \n",
      " 36  [Slovak koruna ]          2608 non-null   object \n",
      " 37  [Thai baht ]              6785 non-null   object \n",
      " 38  [Turkish lira ]           6723 non-null   float64\n",
      " 39  [US dollar ]              6785 non-null   object \n",
      " 40  [South African rand ]     6785 non-null   object \n",
      "dtypes: float64(3), object(38)\n",
      "memory usage: 2.1+ MB\n",
      "None\n",
      "****************************************************************************************************\n",
      "First 5 Rows of the Dataset:\n",
      "  Period\\Unit: [Australian dollar ] [Bulgarian lev ] [Brazilian real ]  \\\n",
      "0   2025-04-02               1.7146           1.9558            6.1212   \n",
      "1   2025-04-01               1.7255           1.9558            6.1679   \n",
      "2   2025-03-31               1.7318           1.9558            6.2507   \n",
      "3   2025-03-28                1.712           1.9558            6.2252   \n",
      "4   2025-03-27               1.7101           1.9558            6.2154   \n",
      "\n",
      "  [Canadian dollar ] [Swiss franc ] [Chinese yuan renminbi ] [Cypriot pound ]  \\\n",
      "0             1.5479         0.9543                   7.8529              NaN   \n",
      "1             1.5529          0.952                   7.8431              NaN   \n",
      "2             1.5533         0.9531                   7.8442              NaN   \n",
      "3             1.5444         0.9525                   7.8445              NaN   \n",
      "4             1.5425         0.9524                   7.8361              NaN   \n",
      "\n",
      "  [Czech koruna ] [Danish krone ]  ... [Romanian leu ] [Russian rouble ]  \\\n",
      "0          24.963          7.4611  ...          4.9775               NaN   \n",
      "1          24.954          7.4616  ...          4.9774               NaN   \n",
      "2          24.962          7.4613  ...          4.9771               NaN   \n",
      "3           24.96          7.4616  ...          4.9774               NaN   \n",
      "4          24.982          7.4605  ...          4.9773               NaN   \n",
      "\n",
      "  [Swedish krona ] [Singapore dollar ] [Slovenian tolar ] [Slovak koruna ]  \\\n",
      "0           10.764              1.4508                NaN              NaN   \n",
      "1           10.816              1.4492                NaN              NaN   \n",
      "2           10.849              1.4519                NaN              NaN   \n",
      "3            10.82              1.4481                NaN              NaN   \n",
      "4          10.8235               1.445                NaN              NaN   \n",
      "\n",
      "  [Thai baht ] [Turkish lira ] [US dollar ]  [South African rand ]  \n",
      "0        36.93         40.9573       1.0803                20.1042  \n",
      "1       36.846         40.9201       1.0788                19.7741  \n",
      "2       36.706         41.0399       1.0815                19.8782  \n",
      "3       36.664         41.0387       1.0797                19.6113  \n",
      "4       36.529         40.9940       1.0785                19.7061  \n",
      "\n",
      "[5 rows x 41 columns]\n"
     ]
    }
   ],
   "source": [
    "# get the general information about the dataset\n",
    "\n",
    "print(\"*\" * 100)\n",
    "print(\"General Information about the Dataset:\")\n",
    "print(df.info())\n",
    "\n",
    "print(\"*\" * 100)\n",
    "print(\"First 5 Rows of the Dataset:\")\n",
    "print(df.head())"
   ]
  },
  {
   "cell_type": "markdown",
   "id": "fa8043ba",
   "metadata": {},
   "source": [
    "From the above result, we can see that the dataset have 39 countries exchange rate, there are null values present in different columns. The data type is not consistent, some are objects and some are float, but they all represent the number."
   ]
  },
  {
   "cell_type": "markdown",
   "id": "4b1534a7",
   "metadata": {},
   "source": [
    "## Dataset Cleaning\n",
    "\n",
    "Before we start creating data visualizations, we'll need to a bit of data cleaning. \n",
    "Our focus is the exchange rate between the euro and the american dollar.\n",
    "\n",
    "Thus, we will do the following:\n",
    "- Rename the US dollar and PEriod\\Unit columns to more professional names.\n",
    "- Change the Period\\Unit column from object to datetime datatype.\n",
    "- Sort the values by time in ascending order.\n",
    "- Reset the index."
   ]
  },
  {
   "cell_type": "code",
   "execution_count": 10,
   "id": "9232c07e",
   "metadata": {},
   "outputs": [
    {
     "ename": "SyntaxError",
     "evalue": "(unicode error) 'unicodeescape' codec can't decode bytes in position 6-7: truncated \\UXXXXXXXX escape (3214831718.py, line 3)",
     "output_type": "error",
     "traceback": [
      "\u001b[0;36m  Cell \u001b[0;32mIn[10], line 3\u001b[0;36m\u001b[0m\n\u001b[0;31m    \"Period\\Unit\": \"Date\",\u001b[0m\n\u001b[0m                 ^\u001b[0m\n\u001b[0;31mSyntaxError\u001b[0m\u001b[0;31m:\u001b[0m (unicode error) 'unicodeescape' codec can't decode bytes in position 6-7: truncated \\UXXXXXXXX escape\n"
     ]
    }
   ],
   "source": [
    "# rename the columns for better readability\n",
    "df = df.rename(columns={\n",
    "    \"Period\\Unit\": \"Date\",\n",
    "    \"US dollar\": \"USD\"\n",
    "})\n",
    "\n",
    "df[\"Date\"] = pd.to_datetime(df[])\n"
   ]
  },
  {
   "cell_type": "code",
   "execution_count": null,
   "id": "46b27f1e",
   "metadata": {},
   "outputs": [],
   "source": []
  }
 ],
 "metadata": {
  "kernelspec": {
   "display_name": "3.10.6",
   "language": "python",
   "name": "python3"
  },
  "language_info": {
   "codemirror_mode": {
    "name": "ipython",
    "version": 3
   },
   "file_extension": ".py",
   "mimetype": "text/x-python",
   "name": "python",
   "nbconvert_exporter": "python",
   "pygments_lexer": "ipython3",
   "version": "3.10.6"
  }
 },
 "nbformat": 4,
 "nbformat_minor": 5
}
